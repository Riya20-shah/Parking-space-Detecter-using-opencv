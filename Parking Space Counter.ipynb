{
 "cells": [
  {
   "cell_type": "code",
   "execution_count": 10,
   "id": "5c991ca7",
   "metadata": {},
   "outputs": [
    {
     "name": "stdout",
     "output_type": "stream",
     "text": [
      "Collecting cvzone\n",
      "  Downloading cvzone-1.5.6.tar.gz (12 kB)\n",
      "Requirement already satisfied: opencv-python in c:\\users\\administrator\\anaconda3\\lib\\site-packages (from cvzone) (4.5.5.64)\n",
      "Requirement already satisfied: numpy in c:\\users\\administrator\\anaconda3\\lib\\site-packages (from cvzone) (1.20.3)\n",
      "Building wheels for collected packages: cvzone\n",
      "  Building wheel for cvzone (setup.py): started\n",
      "  Building wheel for cvzone (setup.py): finished with status 'done'\n",
      "  Created wheel for cvzone: filename=cvzone-1.5.6-py3-none-any.whl size=18767 sha256=ae2c1405be0af5caf87284a82c5e183e6d41b35ccf8c2c84f9bdcf04ac53b0ba\n",
      "  Stored in directory: c:\\users\\administrator\\appdata\\local\\pip\\cache\\wheels\\6f\\ec\\e5\\c576c2f2fa138207498bbbfc8eefb1f0a2efbba7c847742948\n",
      "Successfully built cvzone\n",
      "Installing collected packages: cvzone\n",
      "Successfully installed cvzone-1.5.6\n"
     ]
    }
   ],
   "source": [
    "# !pip install cvzone"
   ]
  },
  {
   "cell_type": "code",
   "execution_count": 1,
   "id": "f45f7162",
   "metadata": {},
   "outputs": [],
   "source": [
    "import cv2 as cv\n",
    "import pickle\n",
    "import numpy as np\n",
    "import cvzone"
   ]
  },
  {
   "cell_type": "code",
   "execution_count": null,
   "id": "e4bbf523",
   "metadata": {},
   "outputs": [],
   "source": [
    "# img = cv.imread('carParkimg.png')\n",
    "# cv.imshow('Car parking' , img)\n",
    "# cv.waitKey(0)"
   ]
  },
  {
   "cell_type": "code",
   "execution_count": null,
   "id": "3c7d39fa",
   "metadata": {},
   "outputs": [],
   "source": []
  },
  {
   "cell_type": "code",
   "execution_count": 2,
   "id": "f86e3006",
   "metadata": {},
   "outputs": [
    {
     "ename": "KeyboardInterrupt",
     "evalue": "",
     "output_type": "error",
     "traceback": [
      "\u001b[1;31m---------------------------------------------------------------------------\u001b[0m",
      "\u001b[1;31mKeyboardInterrupt\u001b[0m                         Traceback (most recent call last)",
      "\u001b[1;32mC:\\Users\\ADMINI~1\\AppData\\Local\\Temp/ipykernel_12936/2180267220.py\u001b[0m in \u001b[0;36m<module>\u001b[1;34m\u001b[0m\n\u001b[0;32m     29\u001b[0m \u001b[1;33m\u001b[0m\u001b[0m\n\u001b[0;32m     30\u001b[0m \u001b[1;32mwhile\u001b[0m \u001b[1;32mTrue\u001b[0m\u001b[1;33m:\u001b[0m\u001b[1;33m\u001b[0m\u001b[1;33m\u001b[0m\u001b[0m\n\u001b[1;32m---> 31\u001b[1;33m     \u001b[0mimg\u001b[0m \u001b[1;33m=\u001b[0m \u001b[0mcv\u001b[0m\u001b[1;33m.\u001b[0m\u001b[0mimread\u001b[0m\u001b[1;33m(\u001b[0m\u001b[1;34m'carParkImg.png'\u001b[0m\u001b[1;33m)\u001b[0m\u001b[1;33m\u001b[0m\u001b[1;33m\u001b[0m\u001b[0m\n\u001b[0m\u001b[0;32m     32\u001b[0m \u001b[1;33m\u001b[0m\u001b[0m\n\u001b[0;32m     33\u001b[0m     \u001b[1;32mfor\u001b[0m \u001b[0mpos\u001b[0m \u001b[1;32min\u001b[0m \u001b[0mposList\u001b[0m\u001b[1;33m:\u001b[0m\u001b[1;33m\u001b[0m\u001b[1;33m\u001b[0m\u001b[0m\n",
      "\u001b[1;31mKeyboardInterrupt\u001b[0m: "
     ]
    }
   ],
   "source": [
    "width , height = 110,48\n",
    "posList = []\n",
    "\n",
    "try:\n",
    "    with open('carparkPos' , 'rb' ) as f:\n",
    "        posList = pickle.load(f)\n",
    "except:\n",
    "    posList = []\n",
    "    \n",
    "def mouseClick(events, x,  y , flags , params):\n",
    "    if events == cv.EVENT_LBUTTONDOWN:\n",
    "        posList.append((x,y))\n",
    "    if events == cv.EVENT_RBUTTONDOWN:\n",
    "        for i , pos in enumerate(posList):\n",
    "            x1 ,y1 = pos \n",
    "            if x1 < x < x1 + width and y1 < y < y1 + height:\n",
    "                posList.pop(i)\n",
    "    with open('carparkPos' , 'wb') as f:\n",
    "        pickle.dump(posList , f)\n",
    "\n",
    "    \n",
    "# #while True:\n",
    "# img = cv.imread('carParkimg.png')\n",
    "# # for pos in posList:\n",
    "# cv.rectangle(img , (40 , 90 ) , (160 , 145) , (220 , 150 , 198) , 2 )\n",
    "# cv.imshow(\"image\" , img)\n",
    "# # cv.setMouseCallback('Image', mouseClick)\n",
    "# cv.waitKey(0)\n",
    "\n",
    "while True:\n",
    "    img = cv.imread('carParkImg.png')\n",
    "    \n",
    "    for pos in posList:\n",
    "#         print(\"posion is \" , pos)\n",
    "#         print(posList)\n",
    "        cv.rectangle(img, pos, (pos[0] + width, pos[1] + height), (255, 0, 255), 2)\n",
    "    \n",
    "    cv.imshow(\"Image\", img)   \n",
    "    cv.setMouseCallback(\"Image\", mouseClick)\n",
    "    cv.waitKey(1)"
   ]
  },
  {
   "cell_type": "markdown",
   "id": "3d4a7066",
   "metadata": {},
   "source": [
    "## detect the parking space from video \n",
    "### load the carpark position from the pickle file and use it in video capture "
   ]
  },
  {
   "cell_type": "code",
   "execution_count": 2,
   "id": "94a6f3fe",
   "metadata": {},
   "outputs": [
    {
     "ename": "KeyboardInterrupt",
     "evalue": "",
     "output_type": "error",
     "traceback": [
      "\u001b[1;31m---------------------------------------------------------------------------\u001b[0m",
      "\u001b[1;31mKeyboardInterrupt\u001b[0m                         Traceback (most recent call last)",
      "\u001b[1;32mC:\\Users\\ADMINI~1\\AppData\\Local\\Temp/ipykernel_6128/4222022490.py\u001b[0m in \u001b[0;36m<module>\u001b[1;34m\u001b[0m\n\u001b[0;32m     41\u001b[0m     \u001b[0mimgDilate\u001b[0m \u001b[1;33m=\u001b[0m \u001b[0mcv\u001b[0m\u001b[1;33m.\u001b[0m\u001b[0mdilate\u001b[0m\u001b[1;33m(\u001b[0m\u001b[0mimgMedian\u001b[0m \u001b[1;33m,\u001b[0m \u001b[0mkernel\u001b[0m\u001b[1;33m)\u001b[0m\u001b[1;33m\u001b[0m\u001b[1;33m\u001b[0m\u001b[0m\n\u001b[0;32m     42\u001b[0m \u001b[1;33m\u001b[0m\u001b[0m\n\u001b[1;32m---> 43\u001b[1;33m     \u001b[0mcheckParkingSpace\u001b[0m\u001b[1;33m(\u001b[0m\u001b[0mimgDilate\u001b[0m\u001b[1;33m)\u001b[0m\u001b[1;33m\u001b[0m\u001b[1;33m\u001b[0m\u001b[0m\n\u001b[0m\u001b[0;32m     44\u001b[0m \u001b[1;31m#     for pos in posList:\u001b[0m\u001b[1;33m\u001b[0m\u001b[1;33m\u001b[0m\u001b[0m\n\u001b[0;32m     45\u001b[0m \u001b[1;31m#         cv.rectangle(img, pos, (pos[0] + width, pos[1] + height), (255, 0, 255), 2)\u001b[0m\u001b[1;33m\u001b[0m\u001b[1;33m\u001b[0m\u001b[0m\n",
      "\u001b[1;32mC:\\Users\\ADMINI~1\\AppData\\Local\\Temp/ipykernel_6128/4222022490.py\u001b[0m in \u001b[0;36mcheckParkingSpace\u001b[1;34m(imgPro)\u001b[0m\n\u001b[0;32m     24\u001b[0m             \u001b[0mcolor\u001b[0m \u001b[1;33m=\u001b[0m \u001b[1;33m(\u001b[0m\u001b[1;36m0\u001b[0m\u001b[1;33m,\u001b[0m\u001b[1;36m0\u001b[0m\u001b[1;33m,\u001b[0m\u001b[1;36m255\u001b[0m\u001b[1;33m)\u001b[0m\u001b[1;33m\u001b[0m\u001b[1;33m\u001b[0m\u001b[0m\n\u001b[0;32m     25\u001b[0m             \u001b[0mthickness\u001b[0m \u001b[1;33m=\u001b[0m \u001b[1;36m5\u001b[0m\u001b[1;33m\u001b[0m\u001b[1;33m\u001b[0m\u001b[0m\n\u001b[1;32m---> 26\u001b[1;33m         \u001b[0mcv\u001b[0m\u001b[1;33m.\u001b[0m\u001b[0mrectangle\u001b[0m\u001b[1;33m(\u001b[0m\u001b[0mimg\u001b[0m\u001b[1;33m,\u001b[0m \u001b[0mpos\u001b[0m\u001b[1;33m,\u001b[0m \u001b[1;33m(\u001b[0m\u001b[0mpos\u001b[0m\u001b[1;33m[\u001b[0m\u001b[1;36m0\u001b[0m\u001b[1;33m]\u001b[0m \u001b[1;33m+\u001b[0m \u001b[0mwidth\u001b[0m\u001b[1;33m,\u001b[0m \u001b[0mpos\u001b[0m\u001b[1;33m[\u001b[0m\u001b[1;36m1\u001b[0m\u001b[1;33m]\u001b[0m \u001b[1;33m+\u001b[0m \u001b[0mheight\u001b[0m\u001b[1;33m)\u001b[0m\u001b[1;33m,\u001b[0m \u001b[0mcolor\u001b[0m\u001b[1;33m,\u001b[0m \u001b[0mthickness\u001b[0m\u001b[1;33m)\u001b[0m\u001b[1;33m\u001b[0m\u001b[1;33m\u001b[0m\u001b[0m\n\u001b[0m\u001b[0;32m     27\u001b[0m         \u001b[0mcvzone\u001b[0m\u001b[1;33m.\u001b[0m\u001b[0mputTextRect\u001b[0m\u001b[1;33m(\u001b[0m\u001b[0mimg\u001b[0m \u001b[1;33m,\u001b[0m \u001b[1;34mf'Free : {str(spaceCounter)}/{len(posList)}'\u001b[0m \u001b[1;33m,\u001b[0m\u001b[1;33m(\u001b[0m\u001b[1;36m100\u001b[0m \u001b[1;33m,\u001b[0m \u001b[1;36m50\u001b[0m\u001b[1;33m)\u001b[0m\u001b[1;33m,\u001b[0m\u001b[0mscale\u001b[0m \u001b[1;33m=\u001b[0m \u001b[1;36m3\u001b[0m \u001b[1;33m,\u001b[0m \u001b[0mthickness\u001b[0m \u001b[1;33m=\u001b[0m \u001b[1;36m3\u001b[0m \u001b[1;33m,\u001b[0m \u001b[0moffset\u001b[0m \u001b[1;33m=\u001b[0m \u001b[1;36m20\u001b[0m \u001b[1;33m,\u001b[0m \u001b[0mcolorR\u001b[0m \u001b[1;33m=\u001b[0m \u001b[1;33m(\u001b[0m\u001b[1;36m0\u001b[0m\u001b[1;33m,\u001b[0m\u001b[1;36m200\u001b[0m\u001b[1;33m,\u001b[0m\u001b[1;36m0\u001b[0m\u001b[1;33m)\u001b[0m\u001b[1;33m)\u001b[0m\u001b[1;33m\u001b[0m\u001b[1;33m\u001b[0m\u001b[0m\n\u001b[0;32m     28\u001b[0m \u001b[1;33m\u001b[0m\u001b[0m\n",
      "\u001b[1;31mKeyboardInterrupt\u001b[0m: "
     ]
    }
   ],
   "source": [
    "cap = cv.VideoCapture('carPark.mp4')\n",
    "\n",
    "with open('carparkPos' , 'rb' ) as f:\n",
    "        posList = pickle.load(f)\n",
    "        \n",
    "width , height = 110,48\n",
    "\n",
    "def checkParkingSpace(imgPro):\n",
    "    \n",
    "    spaceCounter = 0\n",
    "    \n",
    "    for pos in posList:\n",
    "        x , y = pos\n",
    "        imgCrop = imgPro[y:y+height , x:x+width]\n",
    "#         cv.imshow(str(x*y) , imgCrop)\n",
    "        count = cv.countNonZero(imgCrop)\n",
    "        cvzone.putTextRect(img , str(count) ,( x , y+height-10),scale = 1 , thickness = 2 , offset = 0)\n",
    "        \n",
    "        if count < 900:\n",
    "            color = (0,255,0)\n",
    "            thickness = 5\n",
    "            spaceCounter +=1\n",
    "        else:\n",
    "            color = (0,0,255)\n",
    "            thickness = 5\n",
    "        cv.rectangle(img, pos, (pos[0] + width, pos[1] + height), color, thickness)\n",
    "        cvzone.putTextRect(img , f'Free : {str(spaceCounter)}/{len(posList)}' ,(100 , 50),scale = 3 , thickness = 3 , offset = 20 , colorR = (0,200,0))\n",
    "        \n",
    "        \n",
    "while True:\n",
    "    \n",
    "    if cap.get(cv.CAP_PROP_POS_FRAMES) == cap.get(cv.CAP_PROP_FRAME_COUNT):\n",
    "        cap.set(cv.CAP_PROP_POS_FRAMES,0)\n",
    "    sucess , img = cap.read()\n",
    "    \n",
    "    imgGray = cv.cvtColor(img , cv.COLOR_BGR2GRAY)\n",
    "    imgBlur = cv.GaussianBlur(imgGray , (5,5) , 1)\n",
    "    imgThreshold = cv.adaptiveThreshold(imgBlur , 255,cv.ADAPTIVE_THRESH_GAUSSIAN_C , cv.THRESH_BINARY_INV , 25 , 16)\n",
    "    imgMedian = cv.medianBlur(imgThreshold , 5)\n",
    "    kernel = np.ones((3,3) , np.int8)\n",
    "    imgDilate = cv.dilate(imgMedian , kernel)\n",
    "    \n",
    "    checkParkingSpace(imgDilate)\n",
    "#     for pos in posList:\n",
    "#         cv.rectangle(img, pos, (pos[0] + width, pos[1] + height), (255, 0, 255), 2)\n",
    "\n",
    "    cv.imshow(\"Video\" , img)\n",
    "    cv.waitKey(1)\n",
    "    \n",
    "    "
   ]
  },
  {
   "cell_type": "code",
   "execution_count": null,
   "id": "ca03fde0",
   "metadata": {},
   "outputs": [],
   "source": []
  }
 ],
 "metadata": {
  "kernelspec": {
   "display_name": "Python 3 (ipykernel)",
   "language": "python",
   "name": "python3"
  },
  "language_info": {
   "codemirror_mode": {
    "name": "ipython",
    "version": 3
   },
   "file_extension": ".py",
   "mimetype": "text/x-python",
   "name": "python",
   "nbconvert_exporter": "python",
   "pygments_lexer": "ipython3",
   "version": "3.9.7"
  }
 },
 "nbformat": 4,
 "nbformat_minor": 5
}
